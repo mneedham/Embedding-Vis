{
 "cells": [
  {
   "cell_type": "markdown",
   "metadata": {},
   "source": [
    "# DeepWalk\n",
    "\n",
    "\n",
    "This code delegates to DeepLearning4j's DeepWalk implementation.\n",
    "\n",
    "First up let's import some things..."
   ]
  },
  {
   "cell_type": "code",
   "execution_count": 72,
   "metadata": {},
   "outputs": [],
   "source": [
    "import numpy as np\n",
    "import matplotlib.pyplot as plt\n",
    "from sklearn import manifold\n",
    "from sklearn.model_selection import train_test_split\n",
    "from sklearn.neural_network import MLPClassifier\n",
    "import pandas as pd\n",
    "from neo4j.v1 import GraphDatabase\n",
    "import tensorflow as tf\n",
    "\n",
    "\n",
    "# load data\n",
    "from sklearn.preprocessing import StandardScaler"
   ]
  },
  {
   "cell_type": "code",
   "execution_count": 73,
   "metadata": {},
   "outputs": [],
   "source": [
    "driver = GraphDatabase.driver(\"bolt://localhost\", auth=(\"neo4j\", \"neo\"))"
   ]
  },
  {
   "cell_type": "markdown",
   "metadata": {},
   "source": [
    "Time to load our data into Neo4j."
   ]
  },
  {
   "cell_type": "code",
   "execution_count": 4,
   "metadata": {},
   "outputs": [
    {
     "name": "stdout",
     "output_type": "stream",
     "text": [
      "{}\n",
      "{'properties_set': 1005}\n"
     ]
    }
   ],
   "source": [
    "edge_list_file = \"https://github.com/meltzerpete/Embedding-Vis/raw/master/emails/emails.edgelist\"\n",
    "labels_file = \"https://github.com/meltzerpete/Embedding-Vis/raw/master/emails/emails.labels\"\n",
    "attributes_file = None\n",
    "\n",
    "with driver.session() as session:\n",
    "    session.run(\"CREATE CONSTRAINT ON (n:Node) ASSERT n.id IS UNIQUE\")\n",
    "    \n",
    "    result = session.run(\"\"\"\\\n",
    "        LOAD CSV FROM $edgelistFile AS row\n",
    "        FIELDTERMINATOR \" \"\n",
    "        MERGE (e1:Node {id: row[0]})\n",
    "        MERGE (e2:Node {id: row[1]})\n",
    "        MERGE (e1)-[:LINK]->(e2)\n",
    "        \"\"\", {\"edgelistFile\": edge_list_file})\n",
    "    print(result.summary().counters)\n",
    "\n",
    "    result = session.run(\"\"\"\\\n",
    "        LOAD CSV FROM $labelsFile AS row\n",
    "        FIELDTERMINATOR \" \"\n",
    "        MATCH (e:Node {id: row[0]})\n",
    "        SET  e.label = toInteger(row[1])-1\n",
    "        \"\"\", {\"labelsFile\": labels_file})\n",
    "    print(result.summary().counters)\n",
    "\n",
    "    if attributes_file is not None:\n",
    "        result = session.run(\"\"\"\\\n",
    "            load csv from $attributesFile  as row\n",
    "            FIELDTERMINATOR \" \"\n",
    "            with toString(toInteger(row[0])) AS nodeId, row[1..] AS properties\n",
    "            MATCH (s:Node {id: nodeId})\n",
    "            WITH s, properties\n",
    "            UNWIND range(0, size(properties)-1) AS index\n",
    "            CALL apoc.create.setProperty(s, \"property_\" + index, toFloat(properties[index])) YIELD node\n",
    "            return count(*)\n",
    "            \"\"\", {\"attributesFile\": attributes_file})\n",
    "        print(result.summary().counters)"
   ]
  },
  {
   "cell_type": "code",
   "execution_count": 74,
   "metadata": {},
   "outputs": [],
   "source": [
    "embedding_property_name = \"deepwalk_embedding\"\n",
    "vector_size = 64\n",
    "learning_rate = 0.025\n",
    "window_size = 5\n",
    "walk_length = 40\n",
    "number_of_walks = 15"
   ]
  },
  {
   "cell_type": "code",
   "execution_count": 75,
   "metadata": {},
   "outputs": [
    {
     "name": "stdout",
     "output_type": "stream",
     "text": [
      "<Record nodes=1005 iterations=0 loadMillis=-1 computeMillis=-1 writeMillis=133 dampingFactor=0.0 write=False writeProperty=None>\n"
     ]
    }
   ],
   "source": [
    "with driver.session() as session:\n",
    "    params = {\n",
    "        \"writeProperty\": embedding_property_name,\n",
    "        \"vectorSize\": vector_size,\n",
    "        \"learningRate\": learning_rate,\n",
    "        \"windowSize\": window_size,\n",
    "        \"walkSize\": walk_length,\n",
    "        \"numberOfWalks\": number_of_walks\n",
    "    }\n",
    "    result = session.run(\"\"\"\n",
    "    call\n",
    "    algo.deepWalk(\n",
    "        null,\n",
    "        null,\n",
    "        \n",
    "        {vectorSize: $vectorSize,\n",
    "         windowSize: $windowSize,\n",
    "         walkSize: $walkSize,\n",
    "         learningRate: $learningRate,\n",
    "         numberOfWalks: $numberOfWalks,\n",
    "         writeProperty: $writeProperty})\n",
    "    \"\"\", params)\n",
    "    print(result.peek())"
   ]
  },
  {
   "cell_type": "code",
   "execution_count": 76,
   "metadata": {},
   "outputs": [],
   "source": [
    "with driver.session() as session:\n",
    "    result = session.run(\"\"\"\\\n",
    "    MATCH (n) \n",
    "    WITH n.label as class, count(*) AS c\n",
    "    ORDER BY c DESC\n",
    "    WITH class WHERE c > 50\n",
    "    WITH class ORDER BY class\n",
    "    with collect(class) AS biggestClasses\n",
    "    MATCH (p:Node) WHERE p.label IN biggestClasses\n",
    "    SET p.mlLabel = apoc.coll.indexOf(biggestClasses, p.label)\n",
    "    \"\"\")"
   ]
  },
  {
   "cell_type": "code",
   "execution_count": 77,
   "metadata": {},
   "outputs": [],
   "source": [
    "with driver.session() as session:\n",
    "    result = session.run(\"\"\"\\\n",
    "    MATCH (n) \n",
    "    WITH n.label as class, count(*) AS c\n",
    "    ORDER BY c DESC\n",
    "    WITH class WHERE c > 50\n",
    "    WITH class ORDER BY class\n",
    "    with collect(class) AS biggestClasses\n",
    "    MATCH (p:Node) WHERE p.label IN biggestClasses\n",
    "    RETURN p.`%s` AS embedding, apoc.coll.indexOf(biggestClasses, p.label) AS label, p.label as initialLabel\n",
    "    ORDER BY label\n",
    "    \"\"\" % embedding_property_name)\n",
    "\n",
    "    df = pd.DataFrame(dict(row) for row in result)\n",
    "\n",
    "emb = df[\"embedding\"].apply(pd.Series).values\n",
    "labels = df[\"label\"].values"
   ]
  },
  {
   "cell_type": "code",
   "execution_count": 78,
   "metadata": {},
   "outputs": [
    {
     "data": {
      "image/png": "[encoded data removed]",
      "text/plain": [
       "<Figure size 432x288 with 1 Axes>"
      ]
     },
     "metadata": {},
     "output_type": "display_data"
    },
    {
     "data": {
      "image/png": "[encoded data removed]",
      "text/plain": [
       "<Figure size 432x288 with 1 Axes>"
      ]
     },
     "metadata": {},
     "output_type": "display_data"
    }
   ],
   "source": [
    "# Heatmap\n",
    "colours = ['r', 'g', 'b', 'black', 'y', 'orange']\n",
    "cols = pd.DataFrame(labels).apply(lambda x: colours[int(x)], axis=1).values\n",
    "\n",
    "dist = np.ndarray([len(emb), len(emb)])\n",
    "\n",
    "for i, e1 in enumerate(emb):\n",
    "    for j, e2 in enumerate(emb):\n",
    "        dist.itemset((i, j), np.linalg.norm(e1 - e2, 2))\n",
    "\n",
    "plt.imshow(dist)\n",
    "plt.axes().xaxis.tick_top()\n",
    "plt.xticks(np.arange(len(dist)), labels)\n",
    "plt.yticks(np.arange(len(dist)), labels)\n",
    "plt.show()\n",
    "\n",
    "# 2D Visualisation\n",
    "# from: https://baoilleach.blogspot.com/2014/01/convert-distance-matrix-to-2d.html\n",
    "adist = dist\n",
    "amax = np.amax(adist)\n",
    "adist /= amax\n",
    "\n",
    "mds = manifold.MDS(n_components=2, dissimilarity=\"precomputed\", random_state=6)\n",
    "results = mds.fit(adist)\n",
    "\n",
    "coords = results.embedding_\n",
    "\n",
    "plt.subplots_adjust(bottom=0.1)\n",
    "plt.scatter(\n",
    "    coords[:, 0], coords[:, 1], marker='o', c=cols\n",
    ")\n",
    "\n",
    "plt.show()"
   ]
  },
  {
   "cell_type": "code",
   "execution_count": 79,
   "metadata": {},
   "outputs": [
    {
     "name": "stdout",
     "output_type": "stream",
     "text": [
      "{'beta_1': 0.9, 'warm_start': False, 'beta_2': 0.999, 'shuffle': True, 'verbose': False, 'nesterovs_momentum': True, 'hidden_layer_sizes': (30, 30), 'epsilon': 1e-08, 'activation': 'tanh', 'max_iter': 10000, 'batch_size': 433, 'power_t': 0.5, 'random_state': 0, 'learning_rate_init': 0.001, 'tol': 0.0001, 'validation_fraction': 0.1, 'alpha': 1e-05, 'solver': 'sgd', 'momentum': 0.9, 'learning_rate': 'constant', 'early_stopping': False}\n",
      "0.8103448275862069\n"
     ]
    }
   ],
   "source": [
    "X = pd.DataFrame(emb)\n",
    "y = labels\n",
    "\n",
    "X = StandardScaler().fit_transform(X)\n",
    "train_x, test_x, train_y, test_y = train_test_split(X, y, test_size=.4, random_state=42)\n",
    "\n",
    "clf = MLPClassifier(solver='sgd',\n",
    "                    activation='tanh',\n",
    "                    learning_rate_init=0.001,\n",
    "                    alpha=1e-5,\n",
    "                    hidden_layer_sizes=(30, 30),\n",
    "                    max_iter=10000,\n",
    "                    batch_size=X.shape[0],\n",
    "                    random_state=0)\n",
    "\n",
    "clf.n_outputs_ = 6\n",
    "clf.out_activation_ = \"softmax\"\n",
    "print(clf.get_params())\n",
    "clf.fit(train_x, train_y)\n",
    "\n",
    "mean_acc = clf.score(test_x, test_y)\n",
    "print(mean_acc)"
   ]
  },
  {
   "cell_type": "code",
   "execution_count": 59,
   "metadata": {},
   "outputs": [],
   "source": [
    "with driver.session() as session:\n",
    "    result = session.run(\"\"\"\\\n",
    "    MATCH (n:Node) \n",
    "    WITH n.label as class, count(*) AS c\n",
    "    ORDER BY c DESC\n",
    "    WITH class WHERE c > 50 \n",
    "    with collect(class) AS biggestClasses\n",
    "    MATCH (n:Node) WHERE n.label IN biggestClasses\n",
    "    RETURN n.%s AS embedding, n.mlLabel AS label, id(n) AS nodeId\n",
    "    \"\"\" %(embedding_property_name))\n",
    "    \n",
    "    for row in result:\n",
    "        prediction = clf.predict(np.array([row[\"embedding\"]]))[0]\n",
    "        params = {\"nodeId\": row[\"nodeId\"], \"prediction\": int(prediction)}\n",
    "        session.run(\"\"\"\\\n",
    "        MATCH (n) WHERE id(n) = toInteger($nodeId)\n",
    "        SET n.prediction = $prediction\n",
    "        \"\"\", params)\n"
   ]
  },
  {
   "cell_type": "code",
   "execution_count": 61,
   "metadata": {},
   "outputs": [
    {
     "name": "stdout",
     "output_type": "stream",
     "text": [
      "<Record correct=False count=41>\n",
      "<Record correct=True count=392>\n"
     ]
    }
   ],
   "source": [
    "with driver.session() as session:\n",
    "    result = session.run(\"\"\"\\\n",
    "    MATCH (n) \n",
    "    WHERE exists(n.mlLabel)\n",
    "    RETURN n.mlLabel = n.prediction AS correct, count(*) AS count\n",
    "    \"\"\")\n",
    "    for row in result:\n",
    "        print(row)"
   ]
  },
  {
   "cell_type": "code",
   "execution_count": 39,
   "metadata": {},
   "outputs": [],
   "source": [
    "learning_rate = 0.1\n",
    "num_steps = 1000\n",
    "batch_size = 128\n",
    "display_step = 100\n",
    "\n",
    "n_hidden_1 = 30 # 1st layer number of neurons\n",
    "n_hidden_2 = 30 # 2nd layer number of neurons\n",
    "num_input = 18 \n",
    "num_classes = 8 \n",
    "\n",
    "def neural_net(x_dict):\n",
    "    x = x_dict['emb']\n",
    "    layer_1 = tf.layers.dense(x, n_hidden_1, activation=tf.nn.tanh)\n",
    "    layer_2 = tf.layers.dense(layer_1, n_hidden_2, activation=tf.nn.tanh)\n",
    "    out_layer = tf.layers.dense(layer_2, num_classes)\n",
    "    return out_layer\n",
    "\n",
    "\n",
    "def model_fn(features, labels, mode):\n",
    "    logits = neural_net(features)\n",
    "\n",
    "    pred_classes = tf.argmax(logits, axis=1)\n",
    "    pred_probas = tf.nn.softmax(logits)\n",
    "\n",
    "    if mode == tf.estimator.ModeKeys.PREDICT:\n",
    "        return tf.estimator.EstimatorSpec(mode, predictions=pred_classes)\n",
    "\n",
    "    loss_op = tf.reduce_mean(tf.nn.sparse_softmax_cross_entropy_with_logits(\n",
    "        logits=logits, labels=tf.cast(labels, dtype=tf.int32)))\n",
    "    optimizer = tf.train.GradientDescentOptimizer(learning_rate=learning_rate)\n",
    "    train_op = optimizer.minimize(loss_op, global_step=tf.train.get_global_step())\n",
    "\n",
    "    acc_op = tf.metrics.accuracy(labels=labels, predictions=pred_classes)\n",
    "\n",
    "    estim_specs = tf.estimator.EstimatorSpec(\n",
    "        mode=mode,\n",
    "        predictions=pred_classes,\n",
    "        loss=loss_op,\n",
    "        train_op=train_op,\n",
    "        eval_metric_ops={'accuracy': acc_op})\n",
    "\n",
    "    return estim_specs"
   ]
  },
  {
   "cell_type": "code",
   "execution_count": 40,
   "metadata": {},
   "outputs": [],
   "source": [
    "emb = StandardScaler().fit_transform(emb)\n",
    "\n",
    "X_train, X_test, y_train, y_test = train_test_split(emb, labels, test_size=0.33, random_state=42)"
   ]
  },
  {
   "cell_type": "code",
   "execution_count": null,
   "metadata": {},
   "outputs": [],
   "source": []
  },
  {
   "cell_type": "code",
   "execution_count": 41,
   "metadata": {},
   "outputs": [
    {
     "name": "stdout",
     "output_type": "stream",
     "text": [
      "INFO:tensorflow:Using default config.\n"
     ]
    },
    {
     "name": "stderr",
     "output_type": "stream",
     "text": [
      "INFO:tensorflow:Using default config.\n"
     ]
    },
    {
     "name": "stdout",
     "output_type": "stream",
     "text": [
      "WARNING:tensorflow:Using temporary folder as model directory: /tmp/tmpaQt9oM\n"
     ]
    },
    {
     "name": "stderr",
     "output_type": "stream",
     "text": [
      "WARNING:tensorflow:Using temporary folder as model directory: /tmp/tmpaQt9oM\n"
     ]
    },
    {
     "name": "stdout",
     "output_type": "stream",
     "text": [
      "INFO:tensorflow:Using config: {'_save_checkpoints_secs': 600, '_session_config': None, '_keep_checkpoint_max': 5, '_task_type': 'worker', '_global_id_in_cluster': 0, '_is_chief': True, '_cluster_spec': <tensorflow.python.training.server_lib.ClusterSpec object at 0x7fe52d540bd0>, '_evaluation_master': '', '_save_checkpoints_steps': None, '_keep_checkpoint_every_n_hours': 10000, '_service': None, '_num_ps_replicas': 0, '_tf_random_seed': None, '_master': '', '_device_fn': None, '_num_worker_replicas': 1, '_task_id': 0, '_log_step_count_steps': 100, '_model_dir': '/tmp/tmpaQt9oM', '_train_distribute': None, '_save_summary_steps': 100}\n"
     ]
    },
    {
     "name": "stderr",
     "output_type": "stream",
     "text": [
      "INFO:tensorflow:Using config: {'_save_checkpoints_secs': 600, '_session_config': None, '_keep_checkpoint_max': 5, '_task_type': 'worker', '_global_id_in_cluster': 0, '_is_chief': True, '_cluster_spec': <tensorflow.python.training.server_lib.ClusterSpec object at 0x7fe52d540bd0>, '_evaluation_master': '', '_save_checkpoints_steps': None, '_keep_checkpoint_every_n_hours': 10000, '_service': None, '_num_ps_replicas': 0, '_tf_random_seed': None, '_master': '', '_device_fn': None, '_num_worker_replicas': 1, '_task_id': 0, '_log_step_count_steps': 100, '_model_dir': '/tmp/tmpaQt9oM', '_train_distribute': None, '_save_summary_steps': 100}\n"
     ]
    },
    {
     "name": "stdout",
     "output_type": "stream",
     "text": [
      "INFO:tensorflow:Calling model_fn.\n"
     ]
    },
    {
     "name": "stderr",
     "output_type": "stream",
     "text": [
      "INFO:tensorflow:Calling model_fn.\n"
     ]
    },
    {
     "name": "stdout",
     "output_type": "stream",
     "text": [
      "INFO:tensorflow:Done calling model_fn.\n"
     ]
    },
    {
     "name": "stderr",
     "output_type": "stream",
     "text": [
      "INFO:tensorflow:Done calling model_fn.\n"
     ]
    },
    {
     "name": "stdout",
     "output_type": "stream",
     "text": [
      "INFO:tensorflow:Create CheckpointSaverHook.\n"
     ]
    },
    {
     "name": "stderr",
     "output_type": "stream",
     "text": [
      "INFO:tensorflow:Create CheckpointSaverHook.\n"
     ]
    },
    {
     "name": "stdout",
     "output_type": "stream",
     "text": [
      "INFO:tensorflow:Graph was finalized.\n"
     ]
    },
    {
     "name": "stderr",
     "output_type": "stream",
     "text": [
      "INFO:tensorflow:Graph was finalized.\n"
     ]
    },
    {
     "name": "stdout",
     "output_type": "stream",
     "text": [
      "INFO:tensorflow:Running local_init_op.\n"
     ]
    },
    {
     "name": "stderr",
     "output_type": "stream",
     "text": [
      "INFO:tensorflow:Running local_init_op.\n"
     ]
    },
    {
     "name": "stdout",
     "output_type": "stream",
     "text": [
      "INFO:tensorflow:Done running local_init_op.\n"
     ]
    },
    {
     "name": "stderr",
     "output_type": "stream",
     "text": [
      "INFO:tensorflow:Done running local_init_op.\n"
     ]
    },
    {
     "name": "stdout",
     "output_type": "stream",
     "text": [
      "INFO:tensorflow:Saving checkpoints for 0 into /tmp/tmpaQt9oM/model.ckpt.\n"
     ]
    },
    {
     "name": "stderr",
     "output_type": "stream",
     "text": [
      "INFO:tensorflow:Saving checkpoints for 0 into /tmp/tmpaQt9oM/model.ckpt.\n"
     ]
    },
    {
     "name": "stdout",
     "output_type": "stream",
     "text": [
      "INFO:tensorflow:loss = 2.4602134061468455, step = 1\n"
     ]
    },
    {
     "name": "stderr",
     "output_type": "stream",
     "text": [
      "INFO:tensorflow:loss = 2.4602134061468455, step = 1\n"
     ]
    },
    {
     "name": "stdout",
     "output_type": "stream",
     "text": [
      "INFO:tensorflow:global_step/sec: 371.675\n"
     ]
    },
    {
     "name": "stderr",
     "output_type": "stream",
     "text": [
      "INFO:tensorflow:global_step/sec: 371.675\n"
     ]
    },
    {
     "name": "stdout",
     "output_type": "stream",
     "text": [
      "INFO:tensorflow:loss = 0.07398043352436251, step = 101 (0.272 sec)\n"
     ]
    },
    {
     "name": "stderr",
     "output_type": "stream",
     "text": [
      "INFO:tensorflow:loss = 0.07398043352436251, step = 101 (0.272 sec)\n"
     ]
    },
    {
     "name": "stdout",
     "output_type": "stream",
     "text": [
      "INFO:tensorflow:global_step/sec: 322.78\n"
     ]
    },
    {
     "name": "stderr",
     "output_type": "stream",
     "text": [
      "INFO:tensorflow:global_step/sec: 322.78\n"
     ]
    },
    {
     "name": "stdout",
     "output_type": "stream",
     "text": [
      "INFO:tensorflow:loss = 0.054314785354942656, step = 201 (0.310 sec)\n"
     ]
    },
    {
     "name": "stderr",
     "output_type": "stream",
     "text": [
      "INFO:tensorflow:loss = 0.054314785354942656, step = 201 (0.310 sec)\n"
     ]
    },
    {
     "name": "stdout",
     "output_type": "stream",
     "text": [
      "INFO:tensorflow:global_step/sec: 325.023\n"
     ]
    },
    {
     "name": "stderr",
     "output_type": "stream",
     "text": [
      "INFO:tensorflow:global_step/sec: 325.023\n"
     ]
    },
    {
     "name": "stdout",
     "output_type": "stream",
     "text": [
      "INFO:tensorflow:loss = 0.04926311212110884, step = 301 (0.308 sec)\n"
     ]
    },
    {
     "name": "stderr",
     "output_type": "stream",
     "text": [
      "INFO:tensorflow:loss = 0.04926311212110884, step = 301 (0.308 sec)\n"
     ]
    },
    {
     "name": "stdout",
     "output_type": "stream",
     "text": [
      "INFO:tensorflow:global_step/sec: 350.642\n"
     ]
    },
    {
     "name": "stderr",
     "output_type": "stream",
     "text": [
      "INFO:tensorflow:global_step/sec: 350.642\n"
     ]
    },
    {
     "name": "stdout",
     "output_type": "stream",
     "text": [
      "INFO:tensorflow:loss = 0.034887904130715755, step = 401 (0.285 sec)\n"
     ]
    },
    {
     "name": "stderr",
     "output_type": "stream",
     "text": [
      "INFO:tensorflow:loss = 0.034887904130715755, step = 401 (0.285 sec)\n"
     ]
    },
    {
     "name": "stdout",
     "output_type": "stream",
     "text": [
      "INFO:tensorflow:global_step/sec: 319.844\n"
     ]
    },
    {
     "name": "stderr",
     "output_type": "stream",
     "text": [
      "INFO:tensorflow:global_step/sec: 319.844\n"
     ]
    },
    {
     "name": "stdout",
     "output_type": "stream",
     "text": [
      "INFO:tensorflow:loss = 0.04051363217077504, step = 501 (0.313 sec)\n"
     ]
    },
    {
     "name": "stderr",
     "output_type": "stream",
     "text": [
      "INFO:tensorflow:loss = 0.04051363217077504, step = 501 (0.313 sec)\n"
     ]
    },
    {
     "name": "stdout",
     "output_type": "stream",
     "text": [
      "INFO:tensorflow:global_step/sec: 322.515\n"
     ]
    },
    {
     "name": "stderr",
     "output_type": "stream",
     "text": [
      "INFO:tensorflow:global_step/sec: 322.515\n"
     ]
    },
    {
     "name": "stdout",
     "output_type": "stream",
     "text": [
      "INFO:tensorflow:loss = 0.00637824655601814, step = 601 (0.310 sec)\n"
     ]
    },
    {
     "name": "stderr",
     "output_type": "stream",
     "text": [
      "INFO:tensorflow:loss = 0.00637824655601814, step = 601 (0.310 sec)\n"
     ]
    },
    {
     "name": "stdout",
     "output_type": "stream",
     "text": [
      "INFO:tensorflow:global_step/sec: 328.567\n"
     ]
    },
    {
     "name": "stderr",
     "output_type": "stream",
     "text": [
      "INFO:tensorflow:global_step/sec: 328.567\n"
     ]
    },
    {
     "name": "stdout",
     "output_type": "stream",
     "text": [
      "INFO:tensorflow:loss = 0.005250448495018942, step = 701 (0.304 sec)\n"
     ]
    },
    {
     "name": "stderr",
     "output_type": "stream",
     "text": [
      "INFO:tensorflow:loss = 0.005250448495018942, step = 701 (0.304 sec)\n"
     ]
    },
    {
     "name": "stdout",
     "output_type": "stream",
     "text": [
      "INFO:tensorflow:global_step/sec: 380.746\n"
     ]
    },
    {
     "name": "stderr",
     "output_type": "stream",
     "text": [
      "INFO:tensorflow:global_step/sec: 380.746\n"
     ]
    },
    {
     "name": "stdout",
     "output_type": "stream",
     "text": [
      "INFO:tensorflow:loss = 0.020480176110294537, step = 801 (0.262 sec)\n"
     ]
    },
    {
     "name": "stderr",
     "output_type": "stream",
     "text": [
      "INFO:tensorflow:loss = 0.020480176110294537, step = 801 (0.262 sec)\n"
     ]
    },
    {
     "name": "stdout",
     "output_type": "stream",
     "text": [
      "INFO:tensorflow:global_step/sec: 374.449\n"
     ]
    },
    {
     "name": "stderr",
     "output_type": "stream",
     "text": [
      "INFO:tensorflow:global_step/sec: 374.449\n"
     ]
    },
    {
     "name": "stdout",
     "output_type": "stream",
     "text": [
      "INFO:tensorflow:loss = 0.022883400063808217, step = 901 (0.267 sec)\n"
     ]
    },
    {
     "name": "stderr",
     "output_type": "stream",
     "text": [
      "INFO:tensorflow:loss = 0.022883400063808217, step = 901 (0.267 sec)\n"
     ]
    },
    {
     "name": "stdout",
     "output_type": "stream",
     "text": [
      "INFO:tensorflow:Saving checkpoints for 1000 into /tmp/tmpaQt9oM/model.ckpt.\n"
     ]
    },
    {
     "name": "stderr",
     "output_type": "stream",
     "text": [
      "INFO:tensorflow:Saving checkpoints for 1000 into /tmp/tmpaQt9oM/model.ckpt.\n"
     ]
    },
    {
     "name": "stdout",
     "output_type": "stream",
     "text": [
      "INFO:tensorflow:Loss for final step: 0.019482849314536733.\n"
     ]
    },
    {
     "name": "stderr",
     "output_type": "stream",
     "text": [
      "INFO:tensorflow:Loss for final step: 0.019482849314536733.\n"
     ]
    },
    {
     "name": "stdout",
     "output_type": "stream",
     "text": [
      "INFO:tensorflow:Calling model_fn.\n"
     ]
    },
    {
     "name": "stderr",
     "output_type": "stream",
     "text": [
      "INFO:tensorflow:Calling model_fn.\n"
     ]
    },
    {
     "name": "stdout",
     "output_type": "stream",
     "text": [
      "INFO:tensorflow:Done calling model_fn.\n"
     ]
    },
    {
     "name": "stderr",
     "output_type": "stream",
     "text": [
      "INFO:tensorflow:Done calling model_fn.\n"
     ]
    },
    {
     "name": "stdout",
     "output_type": "stream",
     "text": [
      "INFO:tensorflow:Starting evaluation at 2018-07-23-11:30:46\n"
     ]
    },
    {
     "name": "stderr",
     "output_type": "stream",
     "text": [
      "INFO:tensorflow:Starting evaluation at 2018-07-23-11:30:46\n"
     ]
    },
    {
     "name": "stdout",
     "output_type": "stream",
     "text": [
      "INFO:tensorflow:Graph was finalized.\n"
     ]
    },
    {
     "name": "stderr",
     "output_type": "stream",
     "text": [
      "INFO:tensorflow:Graph was finalized.\n"
     ]
    },
    {
     "name": "stdout",
     "output_type": "stream",
     "text": [
      "INFO:tensorflow:Restoring parameters from /tmp/tmpaQt9oM/model.ckpt-1000\n"
     ]
    },
    {
     "name": "stderr",
     "output_type": "stream",
     "text": [
      "INFO:tensorflow:Restoring parameters from /tmp/tmpaQt9oM/model.ckpt-1000\n"
     ]
    },
    {
     "name": "stdout",
     "output_type": "stream",
     "text": [
      "INFO:tensorflow:Running local_init_op.\n"
     ]
    },
    {
     "name": "stderr",
     "output_type": "stream",
     "text": [
      "INFO:tensorflow:Running local_init_op.\n"
     ]
    },
    {
     "name": "stdout",
     "output_type": "stream",
     "text": [
      "INFO:tensorflow:Done running local_init_op.\n"
     ]
    },
    {
     "name": "stderr",
     "output_type": "stream",
     "text": [
      "INFO:tensorflow:Done running local_init_op.\n"
     ]
    },
    {
     "name": "stdout",
     "output_type": "stream",
     "text": [
      "INFO:tensorflow:Finished evaluation at 2018-07-23-11:30:46\n"
     ]
    },
    {
     "name": "stderr",
     "output_type": "stream",
     "text": [
      "INFO:tensorflow:Finished evaluation at 2018-07-23-11:30:46\n"
     ]
    },
    {
     "name": "stdout",
     "output_type": "stream",
     "text": [
      "INFO:tensorflow:Saving dict for global step 1000: accuracy = 0.90909094, global_step = 1000, loss = 0.33728713\n"
     ]
    },
    {
     "name": "stderr",
     "output_type": "stream",
     "text": [
      "INFO:tensorflow:Saving dict for global step 1000: accuracy = 0.90909094, global_step = 1000, loss = 0.33728713\n"
     ]
    },
    {
     "name": "stdout",
     "output_type": "stream",
     "text": [
      "INFO:tensorflow:Saving 'checkpoint_path' summary for global step 1000: /tmp/tmpaQt9oM/model.ckpt-1000\n"
     ]
    },
    {
     "name": "stderr",
     "output_type": "stream",
     "text": [
      "INFO:tensorflow:Saving 'checkpoint_path' summary for global step 1000: /tmp/tmpaQt9oM/model.ckpt-1000\n"
     ]
    },
    {
     "name": "stdout",
     "output_type": "stream",
     "text": [
      "('Testing Accuracy:', 0.90909094)\n"
     ]
    }
   ],
   "source": [
    "model = tf.estimator.Estimator(model_fn)\n",
    "\n",
    "input_fn = tf.estimator.inputs.numpy_input_fn(\n",
    "    x={'emb': X_train}, y=y_train,\n",
    "    batch_size=batch_size, num_epochs=None, shuffle=True)\n",
    "\n",
    "model.train(input_fn, steps=num_steps)\n",
    "\n",
    "input_fn = tf.estimator.inputs.numpy_input_fn(\n",
    "    x={'emb': X_test}, y=y_test,\n",
    "    batch_size=batch_size, shuffle=True)\n",
    "\n",
    "e = model.evaluate(input_fn)\n",
    "\n",
    "print(\"Testing Accuracy:\", e['accuracy'])"
   ]
  }
 ],
 "metadata": {
  "kernelspec": {
   "display_name": "Python 2",
   "language": "python",
   "name": "python2"
  },
  "language_info": {
   "codemirror_mode": {
    "name": "ipython",
    "version": 2
   },
   "file_extension": ".py",
   "mimetype": "text/x-python",
   "name": "python",
   "nbconvert_exporter": "python",
   "pygments_lexer": "ipython2",
   "version": "2.7.15rc1"
  }
 },
 "nbformat": 4,
 "nbformat_minor": 2
}
